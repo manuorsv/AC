{
 "cells": [
  {
   "cell_type": "code",
   "execution_count": 6,
   "metadata": {},
   "outputs": [
    {
     "name": "stdout",
     "output_type": "stream",
     "text": [
      "No es posible ganar con 1000000 piedras.\n"
     ]
    }
   ],
   "source": [
    "#Puesto que con recursión normal alcanzamos en límite que permite python, lo resolveremos con programación dinámica\n",
    "#usando una lista.\n",
    "def es_posible_ganar_con_n_piedras(n):\n",
    "    lista = []\n",
    "    #La inicializamos\n",
    "    for i in range(n+1):\n",
    "        lista.append(False) \n",
    "    #Suponemos que la posición i-ésima de la lista indica si el jugador al que le toca cuando quedan i piedras gana o no.\n",
    "    #Obviamente, si quedan 0 piedras se gana porque es el otro jugador el que quitó la última.\n",
    "    lista[0] = True\n",
    "    #Si queda una piedra el jugador pierde porque no le queda otra opción que quitar la última\n",
    "    lista[1] = False\n",
    "    for i in range(2,n+1):\n",
    "        quita_1 = lista[i-1]\n",
    "        quita_2 = lista[i-2]\n",
    "        if i >= 6:\n",
    "            quita_6 = lista[i-6]\n",
    "            #Hacemos not de cada opción puesto que esos resultados se refieren a los del otro jugador, puesto que se refieren\n",
    "            #al siguiente turno. Obviamente que un jugador gane en un turno implica que el otro pierde en ese mismo turno.\n",
    "            lista[i] = (not quita_1) or (not quita_2) or (not quita_6)\n",
    "        else:\n",
    "            lista[i] = (not quita_1) or (not quita_2)\n",
    "    if lista[n]:\n",
    "        print(\"Es posible ganar con \" + str(n) + \" piedras.\")\n",
    "    else:\n",
    "        print(\"No es posible ganar con \" + str(n) + \" piedras.\")\n",
    "        \n",
    "es_posible_ganar_con_n_piedras(10**6)"
   ]
  }
 ],
 "metadata": {
  "kernelspec": {
   "display_name": "Python 3",
   "language": "python",
   "name": "python3"
  },
  "language_info": {
   "codemirror_mode": {
    "name": "ipython",
    "version": 3
   },
   "file_extension": ".py",
   "mimetype": "text/x-python",
   "name": "python",
   "nbconvert_exporter": "python",
   "pygments_lexer": "ipython3",
   "version": "3.8.3"
  }
 },
 "nbformat": 4,
 "nbformat_minor": 4
}
