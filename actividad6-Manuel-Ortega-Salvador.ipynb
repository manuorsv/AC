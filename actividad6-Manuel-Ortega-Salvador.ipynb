{
 "cells": [
  {
   "cell_type": "code",
   "execution_count": 2,
   "metadata": {},
   "outputs": [
    {
     "name": "stdout",
     "output_type": "stream",
     "text": [
      "(972649, 1585568368425366668222410057037434303823082903719308440058837)\n"
     ]
    }
   ],
   "source": [
    "from math import sqrt, gcd, log, ceil\n",
    "import random\n",
    "\n",
    "def es_primo(n):\n",
    "    if n < 2:\n",
    "        return False\n",
    "    \n",
    "    elif n == 2:\n",
    "        return True\n",
    "    else:\n",
    "        for i in range(2, int(sqrt(n)) + 1):\n",
    "            if n%i == 0:\n",
    "                return False\n",
    "        return True\n",
    "\n",
    "def pollard_pm1(N,B):\n",
    "    if es_primo(N):\n",
    "        return 1,N\n",
    "    \n",
    "    #Llenamos la lista de primos hasta B\n",
    "    primos = []\n",
    "    for i in range(2, B+1):\n",
    "        if es_primo(i):\n",
    "            primos.append(i)\n",
    "    \n",
    "    #Calculamos beta\n",
    "    beta = 1\n",
    "    for p in primos:\n",
    "        ent_log = ceil(log(N,p))\n",
    "        beta *= pow(p,ent_log)\n",
    "    \n",
    "    #Hacemos un bucle infinito puesto que encontrará seguro una factorización que hará terminar la función\n",
    "    while True:\n",
    "        a = random.randrange(1,N)\n",
    "        x = gcd(a,N)\n",
    "        y = gcd(pow(a,int(beta),N)-1,N)\n",
    "        if x != 1:\n",
    "            return x,N//x\n",
    "        elif y != N:\n",
    "            return y, N//y\n",
    "        \n",
    "\n",
    "print(pollard_pm1(1542201487980564464479858919567403438179217763219681634914787749213,100))"
   ]
  },
  {
   "cell_type": "code",
   "execution_count": 3,
   "metadata": {},
   "outputs": [
    {
     "ename": "KeyboardInterrupt",
     "evalue": "",
     "output_type": "error",
     "traceback": [
      "\u001b[1;31m---------------------------------------------------------------------------\u001b[0m",
      "\u001b[1;31mKeyboardInterrupt\u001b[0m                         Traceback (most recent call last)",
      "\u001b[1;32m<ipython-input-3-b864df13e8ee>\u001b[0m in \u001b[0;36m<module>\u001b[1;34m\u001b[0m\n\u001b[1;32m----> 1\u001b[1;33m \u001b[0mes_primo\u001b[0m\u001b[1;33m(\u001b[0m\u001b[1;36m748558198756494643448148507249530962747253288753541924400274301785878687384888509775180003618241748445389701478721788555360050240545684622353805259903117909014417281057589500365426582382330871518710242151242383198194793200028087841223454620417896159269687573659540142498248216361754469074549270269507\u001b[0m\u001b[1;33m)\u001b[0m\u001b[1;33m\u001b[0m\u001b[1;33m\u001b[0m\u001b[0m\n\u001b[0m",
      "\u001b[1;32m<ipython-input-2-eeee78ad442c>\u001b[0m in \u001b[0;36mes_primo\u001b[1;34m(n)\u001b[0m\n\u001b[0;32m     10\u001b[0m     \u001b[1;32melse\u001b[0m\u001b[1;33m:\u001b[0m\u001b[1;33m\u001b[0m\u001b[1;33m\u001b[0m\u001b[0m\n\u001b[0;32m     11\u001b[0m         \u001b[1;32mfor\u001b[0m \u001b[0mi\u001b[0m \u001b[1;32min\u001b[0m \u001b[0mrange\u001b[0m\u001b[1;33m(\u001b[0m\u001b[1;36m2\u001b[0m\u001b[1;33m,\u001b[0m \u001b[0mint\u001b[0m\u001b[1;33m(\u001b[0m\u001b[0msqrt\u001b[0m\u001b[1;33m(\u001b[0m\u001b[0mn\u001b[0m\u001b[1;33m)\u001b[0m\u001b[1;33m)\u001b[0m \u001b[1;33m+\u001b[0m \u001b[1;36m1\u001b[0m\u001b[1;33m)\u001b[0m\u001b[1;33m:\u001b[0m\u001b[1;33m\u001b[0m\u001b[1;33m\u001b[0m\u001b[0m\n\u001b[1;32m---> 12\u001b[1;33m             \u001b[1;32mif\u001b[0m \u001b[0mn\u001b[0m\u001b[1;33m%\u001b[0m\u001b[0mi\u001b[0m \u001b[1;33m==\u001b[0m \u001b[1;36m0\u001b[0m\u001b[1;33m:\u001b[0m\u001b[1;33m\u001b[0m\u001b[1;33m\u001b[0m\u001b[0m\n\u001b[0m\u001b[0;32m     13\u001b[0m                 \u001b[1;32mreturn\u001b[0m \u001b[1;32mFalse\u001b[0m\u001b[1;33m\u001b[0m\u001b[1;33m\u001b[0m\u001b[0m\n\u001b[0;32m     14\u001b[0m         \u001b[1;32mreturn\u001b[0m \u001b[1;32mTrue\u001b[0m\u001b[1;33m\u001b[0m\u001b[1;33m\u001b[0m\u001b[0m\n",
      "\u001b[1;31mKeyboardInterrupt\u001b[0m: "
     ]
    }
   ],
   "source": [
    "es_primo(748558198756494643448148507249530962747253288753541924400274301785878687384888509775180003618241748445389701478721788555360050240545684622353805259903117909014417281057589500365426582382330871518710242151242383198194793200028087841223454620417896159269687573659540142498248216361754469074549270269507)"
   ]
  },
  {
   "cell_type": "code",
   "execution_count": null,
   "metadata": {},
   "outputs": [],
   "source": []
  }
 ],
 "metadata": {
  "kernelspec": {
   "display_name": "Python 3",
   "language": "python",
   "name": "python3"
  },
  "language_info": {
   "codemirror_mode": {
    "name": "ipython",
    "version": 3
   },
   "file_extension": ".py",
   "mimetype": "text/x-python",
   "name": "python",
   "nbconvert_exporter": "python",
   "pygments_lexer": "ipython3",
   "version": "3.8.3"
  }
 },
 "nbformat": 4,
 "nbformat_minor": 4
}
