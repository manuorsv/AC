{
 "cells": [
  {
   "cell_type": "code",
   "execution_count": 5,
   "metadata": {},
   "outputs": [
    {
     "name": "stdout",
     "output_type": "stream",
     "text": [
      "10920\n"
     ]
    }
   ],
   "source": [
    "#Para comprobar si hemos vuelto a la configuracion inicial\n",
    "def comprueba_solucion(n_cajas, cajas_conf):\n",
    "    for i in range(n_cajas):\n",
    "        if cajas_conf[i] != 1:\n",
    "            return False\n",
    "    return True;\n",
    "    \n",
    "#Funcion para resolver el problema para n cajas    \n",
    "def problema_cajas(n_cajas):\n",
    "    cajas = []\n",
    "    #Inicializamos las cajas con una bola\n",
    "    for i in range(n_cajas):\n",
    "        cajas.append(1)\n",
    "    \n",
    "    repite_conf = False\n",
    "    caja_turno = 0\n",
    "    iteracion = 0\n",
    "    #Repetimos hasta que la configuracion inicial se repita\n",
    "    while not repite_conf:\n",
    "        #Vaciamos la caja\n",
    "        bolas_caja = cajas[caja_turno]\n",
    "        cajas[caja_turno] = 0\n",
    "        #Vamos llenando las siguientes cajas con una bola\n",
    "        for i in range(bolas_caja):\n",
    "            caja_turno += 1\n",
    "            if caja_turno == n_cajas:\n",
    "                caja_turno = 0\n",
    "            cajas[caja_turno] += 1\n",
    "        repite_conf = comprueba_solucion(n_cajas, cajas)\n",
    "        iteracion += 1\n",
    "    print(iteracion) \n",
    "\n",
    "problema_cajas(100)"
   ]
  }
 ],
 "metadata": {
  "kernelspec": {
   "display_name": "Python 3",
   "language": "python",
   "name": "python3"
  },
  "language_info": {
   "codemirror_mode": {
    "name": "ipython",
    "version": 3
   },
   "file_extension": ".py",
   "mimetype": "text/x-python",
   "name": "python",
   "nbconvert_exporter": "python",
   "pygments_lexer": "ipython3",
   "version": "3.8.3"
  }
 },
 "nbformat": 4,
 "nbformat_minor": 4
}
