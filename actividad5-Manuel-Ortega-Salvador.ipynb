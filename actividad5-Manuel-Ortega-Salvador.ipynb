{
 "cells": [
  {
   "cell_type": "code",
   "execution_count": 9,
   "metadata": {},
   "outputs": [
    {
     "name": "stdout",
     "output_type": "stream",
     "text": [
      "561\n",
      "1105\n",
      "1729\n",
      "2465\n",
      "2821\n",
      "6601\n",
      "8911\n",
      "10585\n",
      "15841\n",
      "29341\n"
     ]
    }
   ],
   "source": [
    "from math import sqrt, gcd\n",
    "\n",
    "def es_primo(n):\n",
    "    if n < 2:\n",
    "        return False\n",
    "    \n",
    "    elif n == 2:\n",
    "        return True\n",
    "    else:\n",
    "        for i in range(2, int(sqrt(n)) + 1):\n",
    "            if n%i == 0:\n",
    "                return False\n",
    "        return True\n",
    "    \n",
    "def numeros_Carmichael():\n",
    "    cont = 0\n",
    "    N = 1\n",
    "    while cont < 10:\n",
    "        pseudoprimo = True\n",
    "        if not (N<=2 or es_primo(N)):\n",
    "            for a in range(N):\n",
    "                if gcd(a,N) == 1 and pow(a,N-1,N) != 1:\n",
    "                    #Ya sabemos que no es pseudoprimo y podemos dejar de comprobar\n",
    "                    pseudoprimo = False\n",
    "                    break\n",
    "            if pseudoprimo:\n",
    "                print(N)\n",
    "                cont += 1\n",
    "        N += 1\n",
    "        \n",
    "numeros_Carmichael()"
   ]
  },
  {
   "cell_type": "code",
   "execution_count": 10,
   "metadata": {},
   "outputs": [
    {
     "name": "stdout",
     "output_type": "stream",
     "text": [
      "2\n",
      "3\n",
      "5\n",
      "7\n",
      "11\n",
      "13\n",
      "17\n",
      "19\n",
      "23\n",
      "29\n",
      "31\n",
      "37\n",
      "41\n",
      "43\n",
      "47\n",
      "53\n",
      "59\n",
      "61\n",
      "67\n",
      "71\n",
      "73\n",
      "79\n",
      "83\n",
      "89\n",
      "97\n"
     ]
    }
   ],
   "source": [
    "for i in range(100):\n",
    "    if es_primo(i):\n",
    "        print(i)"
   ]
  },
  {
   "cell_type": "code",
   "execution_count": null,
   "metadata": {},
   "outputs": [],
   "source": []
  }
 ],
 "metadata": {
  "kernelspec": {
   "display_name": "Python 3",
   "language": "python",
   "name": "python3"
  },
  "language_info": {
   "codemirror_mode": {
    "name": "ipython",
    "version": 3
   },
   "file_extension": ".py",
   "mimetype": "text/x-python",
   "name": "python",
   "nbconvert_exporter": "python",
   "pygments_lexer": "ipython3",
   "version": "3.8.3"
  }
 },
 "nbformat": 4,
 "nbformat_minor": 4
}
