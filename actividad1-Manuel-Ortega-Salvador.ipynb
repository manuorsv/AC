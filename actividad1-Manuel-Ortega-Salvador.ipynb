{
 "cells": [
  {
   "cell_type": "code",
   "execution_count": 1,
   "metadata": {},
   "outputs": [
    {
     "name": "stdout",
     "output_type": "stream",
     "text": [
      "210\n"
     ]
    }
   ],
   "source": [
    "#Devuelve el dígito en posicion n-esima\n",
    "def digito_pos_n(n):\n",
    "    if(n < 10):\n",
    "        return n\n",
    "    else:\n",
    "        #Inicializamos la última posición para los enteros de dos cifras\n",
    "        aux_pos = 9\n",
    "        #Inicializamos el último número entero de una cifra\n",
    "        aux_num = 9\n",
    "        cifras = 1\n",
    "        while(aux_pos < n):\n",
    "            cifras += 1\n",
    "            #Calcula el siguiente nivel (última posición ocupada por los enteros con tantas cifras)\n",
    "            next_aux = aux_pos + 9 * 10**(cifras-1) * cifras\n",
    "            #Igual con el último número de tantas cifras del siguiente nivel\n",
    "            next_aux_num = aux_num * 10 + 9\n",
    "            if(n <= next_aux):\n",
    "                break\n",
    "            else:\n",
    "                aux_num = next_aux_num\n",
    "                aux_pos = next_aux\n",
    "        #Estamos calculando una especie de offset a partir de la última posición ocupada del nivel anterior\n",
    "        n_aux = n-aux_pos-1\n",
    "        pos_cifra = n_aux % cifras\n",
    "        pos_relativo_num = n_aux // cifras\n",
    "        num = pos_relativo_num + aux_num + 1\n",
    "        div = num\n",
    "        for i in range(cifras-pos_cifra):\n",
    "            if(div<10):\n",
    "                cifra = div\n",
    "            else:\n",
    "                cifra = div % 10\n",
    "            div = div // 10\n",
    "        return cifra      \n",
    "    \n",
    "#Calculamos el resultado\n",
    "d1 = digito_pos_n(1)\n",
    "d10 = digito_pos_n(10)\n",
    "d100 = digito_pos_n(100)\n",
    "d1000 = digito_pos_n(1000)\n",
    "d10000 = digito_pos_n(10000)\n",
    "d100000 = digito_pos_n(100000)\n",
    "d1000000 = digito_pos_n(1000000)\n",
    "sol = d1*d10*d100*d1000*d10000*d100000*d1000000\n",
    "print(sol)"
   ]
  }
 ],
 "metadata": {
  "kernelspec": {
   "display_name": "Python 3",
   "language": "python",
   "name": "python3"
  },
  "language_info": {
   "codemirror_mode": {
    "name": "ipython",
    "version": 3
   },
   "file_extension": ".py",
   "mimetype": "text/x-python",
   "name": "python",
   "nbconvert_exporter": "python",
   "pygments_lexer": "ipython3",
   "version": "3.8.3"
  }
 },
 "nbformat": 4,
 "nbformat_minor": 4
}
